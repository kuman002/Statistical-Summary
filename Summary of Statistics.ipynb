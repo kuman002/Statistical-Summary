{
 "cells": [
  {
   "cell_type": "code",
   "execution_count": 2,
   "id": "c07c209f",
   "metadata": {},
   "outputs": [
    {
     "name": "stdout",
     "output_type": "stream",
     "text": [
      "Mean of survived people is 0.36363636363636365\n",
      "Mean of dead people is 0.6363636363636364\n",
      "Median of Passengers is  1100.5\n",
      "mode is\n",
      " 0       892\n",
      "1       893\n",
      "2       894\n",
      "3       895\n",
      "4       896\n",
      "       ... \n",
      "413    1305\n",
      "414    1306\n",
      "415    1307\n",
      "416    1308\n",
      "417    1309\n",
      "Name: PassengerId, Length: 418, dtype: int64\n"
     ]
    }
   ],
   "source": [
    "import numpy as np\n",
    "import pandas as pd\n",
    "df=pd.read_csv(\"gender_submission.csv\")\n",
    "\n",
    "df_mean_of_survived=(df[\"Survived\"]==1).mean()\n",
    "print(\"Mean of survived people is\",df_mean_of_survived)\n",
    "\n",
    "df_mean_of_deaths=(df[\"Survived\"]==0).mean()\n",
    "print(\"Mean of dead people is\",df_mean_of_deaths)\n",
    "\n",
    "df_median=df[\"PassengerId\"].median()\n",
    "print(\"Median of Passengers is \",df_median)\n",
    "\n",
    "df_mode=(df[\"PassengerId\"]).mode()\n",
    "print(\"mode is\\n\",df_mode)"
   ]
  },
  {
   "cell_type": "code",
   "execution_count": null,
   "id": "b5883add",
   "metadata": {},
   "outputs": [],
   "source": []
  }
 ],
 "metadata": {
  "kernelspec": {
   "display_name": "Python 3 (ipykernel)",
   "language": "python",
   "name": "python3"
  },
  "language_info": {
   "codemirror_mode": {
    "name": "ipython",
    "version": 3
   },
   "file_extension": ".py",
   "mimetype": "text/x-python",
   "name": "python",
   "nbconvert_exporter": "python",
   "pygments_lexer": "ipython3",
   "version": "3.11.5"
  }
 },
 "nbformat": 4,
 "nbformat_minor": 5
}
